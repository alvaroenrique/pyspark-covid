{
 "cells": [
  {
   "cell_type": "code",
   "execution_count": 1,
   "metadata": {},
   "outputs": [
    {
     "name": "stdout",
     "output_type": "stream",
     "text": [
      "+-----+-----+-------+--------+\n",
      "|   RM|LSTAT|PTRATIO|    MEDV|\n",
      "+-----+-----+-------+--------+\n",
      "|6.575| 4.98|   15.3|504000.0|\n",
      "|6.421| 9.14|   17.8|453600.0|\n",
      "|7.185| 4.03|   17.8|728700.0|\n",
      "|6.998| 2.94|   18.7|701400.0|\n",
      "|7.147| 5.33|   18.7|760200.0|\n",
      "| 6.43| 5.21|   18.7|602700.0|\n",
      "|6.012|12.43|   15.2|480900.0|\n",
      "|6.172|19.15|   15.2|569100.0|\n",
      "|5.631|29.93|   15.2|346500.0|\n",
      "|6.004| 17.1|   15.2|396900.0|\n",
      "|6.377|20.45|   15.2|315000.0|\n",
      "|6.009|13.27|   15.2|396900.0|\n",
      "|5.889|15.71|   15.2|455700.0|\n",
      "|5.949| 8.26|   21.0|428400.0|\n",
      "|6.096|10.26|   21.0|382200.0|\n",
      "|5.834| 8.47|   21.0|417900.0|\n",
      "|5.935| 6.58|   21.0|485100.0|\n",
      "| 5.99|14.67|   21.0|367500.0|\n",
      "|5.456|11.69|   21.0|424200.0|\n",
      "|5.727|11.28|   21.0|382200.0|\n",
      "+-----+-----+-------+--------+\n",
      "only showing top 20 rows\n",
      "\n"
     ]
    }
   ],
   "source": [
    "from pyspark import SparkContext, SparkConf\n",
    "from pyspark import SQLContext\n",
    "from pyspark.ml.feature import VectorAssembler\n",
    "from pyspark.ml.regression import LinearRegression\n",
    "\n",
    "conf = SparkConf().setAppName(\"Analisis Housing\").setMaster(\"local\")\n",
    "sc = SparkContext(conf=conf)\n",
    "sqlContext = SQLContext(sc)\n",
    "\n",
    "rdd = sqlContext.read.csv(\"housing(1).csv\", header=True).rdd\n",
    "\n",
    "df = rdd.toDF()\n",
    "df.show()"
   ]
  },
  {
   "cell_type": "code",
   "execution_count": 2,
   "metadata": {},
   "outputs": [],
   "source": [
    "rdd = rdd.map(lambda x: ( float(x[0]), float(x[1]), float(x[2]), float(x[3]) ) )\n",
    "df = rdd.toDF()"
   ]
  },
  {
   "cell_type": "code",
   "execution_count": 3,
   "metadata": {},
   "outputs": [
    {
     "name": "stdout",
     "output_type": "stream",
     "text": [
      "+-----+-----+----+--------+------------------+\n",
      "|   _1|   _2|  _3|      _4|          features|\n",
      "+-----+-----+----+--------+------------------+\n",
      "|6.575| 4.98|15.3|504000.0| [6.575,4.98,15.3]|\n",
      "|6.421| 9.14|17.8|453600.0| [6.421,9.14,17.8]|\n",
      "|7.185| 4.03|17.8|728700.0| [7.185,4.03,17.8]|\n",
      "|6.998| 2.94|18.7|701400.0| [6.998,2.94,18.7]|\n",
      "|7.147| 5.33|18.7|760200.0| [7.147,5.33,18.7]|\n",
      "| 6.43| 5.21|18.7|602700.0|  [6.43,5.21,18.7]|\n",
      "|6.012|12.43|15.2|480900.0|[6.012,12.43,15.2]|\n",
      "|6.172|19.15|15.2|569100.0|[6.172,19.15,15.2]|\n",
      "|5.631|29.93|15.2|346500.0|[5.631,29.93,15.2]|\n",
      "|6.004| 17.1|15.2|396900.0| [6.004,17.1,15.2]|\n",
      "|6.377|20.45|15.2|315000.0|[6.377,20.45,15.2]|\n",
      "|6.009|13.27|15.2|396900.0|[6.009,13.27,15.2]|\n",
      "|5.889|15.71|15.2|455700.0|[5.889,15.71,15.2]|\n",
      "|5.949| 8.26|21.0|428400.0| [5.949,8.26,21.0]|\n",
      "|6.096|10.26|21.0|382200.0|[6.096,10.26,21.0]|\n",
      "|5.834| 8.47|21.0|417900.0| [5.834,8.47,21.0]|\n",
      "|5.935| 6.58|21.0|485100.0| [5.935,6.58,21.0]|\n",
      "| 5.99|14.67|21.0|367500.0| [5.99,14.67,21.0]|\n",
      "|5.456|11.69|21.0|424200.0|[5.456,11.69,21.0]|\n",
      "|5.727|11.28|21.0|382200.0|[5.727,11.28,21.0]|\n",
      "+-----+-----+----+--------+------------------+\n",
      "only showing top 20 rows\n",
      "\n"
     ]
    }
   ],
   "source": [
    "assembler = VectorAssembler(inputCols=[\"_1\", \"_2\", \"_3\"], outputCol=\"features\")\n",
    "df = assembler.transform(df)\n",
    "df.show()"
   ]
  },
  {
   "cell_type": "code",
   "execution_count": 4,
   "metadata": {},
   "outputs": [
    {
     "data": {
      "text/plain": [
       "399"
      ]
     },
     "execution_count": 4,
     "metadata": {},
     "output_type": "execute_result"
    }
   ],
   "source": [
    "dfTrain, dfTest = df.randomSplit([0.8, 0.2], seed=12345)\n",
    "\n",
    "dfTrain.count()"
   ]
  },
  {
   "cell_type": "code",
   "execution_count": 5,
   "metadata": {},
   "outputs": [
    {
     "data": {
      "text/plain": [
       "90"
      ]
     },
     "execution_count": 5,
     "metadata": {},
     "output_type": "execute_result"
    }
   ],
   "source": [
    "dfTest.count()"
   ]
  },
  {
   "cell_type": "code",
   "execution_count": 6,
   "metadata": {},
   "outputs": [],
   "source": [
    "lr = LinearRegression(featuresCol=\"features\", \n",
    "                      labelCol=\"_4\",\n",
    "                     maxIter=100,\n",
    "                     regParam=0.001)\n",
    "lrModel = lr.fit(dfTrain)"
   ]
  },
  {
   "cell_type": "code",
   "execution_count": 7,
   "metadata": {},
   "outputs": [
    {
     "data": {
      "text/plain": [
       "DenseVector([79801.3016, -11021.8532, -19306.5604])"
      ]
     },
     "execution_count": 7,
     "metadata": {},
     "output_type": "execute_result"
    }
   ],
   "source": [
    "lrModel.coefficients"
   ]
  },
  {
   "cell_type": "code",
   "execution_count": 8,
   "metadata": {},
   "outputs": [
    {
     "data": {
      "text/plain": [
       "456470.1768002261"
      ]
     },
     "execution_count": 8,
     "metadata": {},
     "output_type": "execute_result"
    }
   ],
   "source": [
    "lrModel.intercept"
   ]
  },
  {
   "cell_type": "code",
   "execution_count": 12,
   "metadata": {},
   "outputs": [
    {
     "data": {
      "text/plain": [
       "93937.27430755217"
      ]
     },
     "execution_count": 12,
     "metadata": {},
     "output_type": "execute_result"
    }
   ],
   "source": [
    "from pyspark.ml.evaluation import RegressionEvaluator\n",
    "\n",
    "dfPrediction = lrModel.transform(dfTest)\n",
    "evaluador = RegressionEvaluator(predictionCol=\"prediction\",\n",
    "                               labelCol=\"_4\", metricName=\"rmse\")\n",
    "evaluador.evaluate(dfPrediction)"
   ]
  },
  {
   "cell_type": "code",
   "execution_count": null,
   "metadata": {},
   "outputs": [],
   "source": []
  }
 ],
 "metadata": {
  "kernelspec": {
   "display_name": "Python 3",
   "language": "python",
   "name": "python3"
  },
  "language_info": {
   "codemirror_mode": {
    "name": "ipython",
    "version": 3
   },
   "file_extension": ".py",
   "mimetype": "text/x-python",
   "name": "python",
   "nbconvert_exporter": "python",
   "pygments_lexer": "ipython3",
   "version": "3.8.4"
  }
 },
 "nbformat": 4,
 "nbformat_minor": 4
}
