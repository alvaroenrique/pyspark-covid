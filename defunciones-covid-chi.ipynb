{
 "cells": [
  {
   "cell_type": "code",
   "execution_count": 1,
   "metadata": {},
   "outputs": [
    {
     "name": "stdout",
     "output_type": "stream",
     "text": [
      "+---------+-----+----+-------------+---------+--------------------+--------+-------------------+--------------------+--------+----+----+--------+------------+--------+--------------+--------+-------------+----------+--------------------+-------------------+\n",
      "|RESULTADO|DELAY|SEXO|TIPO_PACIENTE|DEFUNCION|            INTUBADO|NEUMONIA|               EDAD|            EMBARAZO|DIABETES|EPOC|ASMA|INMUSUPR|HIPERTENSION|OTRA_COM|CARDIOVASCULAR|OBESIDAD|RENAL_CRONICA|TABAQUISMO|           OTRO_CASO|                UCI|\n",
      "+---------+-----+----+-------------+---------+--------------------+--------+-------------------+--------------------+--------+----+----+--------+------------+--------+--------------+--------+-------------+----------+--------------------+-------------------+\n",
      "|        1|    0|   2|            2|        0|0.010309278350515464|       1| 0.4166666666666667|  0.9896907216494846|       2|   2|   2|       2|           2|       2|             2|       2|            2|         2|  1.0103092783505154|0.01020408163265306|\n",
      "|        1|    0|   1|            1|        0|  0.9896907216494846|       2|0.20833333333333334|0.010309278350515464|       2|   2|   2|       2|           2|       2|             2|       1|            2|         2|  1.0103092783505154| 0.9795918367346939|\n",
      "|        1|    0|   1|            1|        0|  0.9896907216494846|       2|0.24166666666666667|0.010309278350515464|       2|   2|   2|       2|           2|       2|             2|       2|            2|         2|  1.0103092783505154| 0.9795918367346939|\n",
      "|        1|    0|   2|            1|        0|  0.9896907216494846|       2|               0.25|  0.9896907216494846|       2|   2|   2|       2|           2|       2|             2|       2|            2|         2|0.010309278350515464| 0.9795918367346939|\n",
      "|        1|    0|   2|            1|        0|  0.9896907216494846|       2| 0.5333333333333333|  0.9896907216494846|       1|   2|   2|       2|           1|       2|             2|       1|            2|         2|                 0.0| 0.9795918367346939|\n",
      "|        1|    0|   2|            2|        0|0.010309278350515464|       2| 0.4583333333333333|  0.9896907216494846|       2|   2|   2|       2|           1|       2|             2|       1|            2|         1|  1.0103092783505154|0.01020408163265306|\n",
      "|        1|    0|   1|            1|        0|  0.9896907216494846|       2|0.24166666666666667|0.010309278350515464|       2|   2|   1|       2|           2|       2|             2|       2|            2|         2|  1.0103092783505154| 0.9795918367346939|\n",
      "|        1|    0|   2|            1|        0|  0.9896907216494846|       2|0.35833333333333334|  0.9896907216494846|       2|   2|   2|       2|           2|       2|             2|       2|            2|         2|                 0.0| 0.9795918367346939|\n",
      "|        1|    0|   1|            1|        0|  0.9896907216494846|       2|0.26666666666666666|0.010309278350515464|       2|   2|   2|       2|           2|       2|             2|       2|            2|         2|  1.0103092783505154| 0.9795918367346939|\n",
      "|        1|    0|   2|            2|        0|0.010309278350515464|       1|0.38333333333333336|  0.9896907216494846|       2|   2|   2|       2|           2|       2|             2|       2|            2|         2|  1.0103092783505154|0.01020408163265306|\n",
      "|        1|    0|   2|            2|        0|0.010309278350515464|       2| 0.5083333333333333|  0.9896907216494846|       1|   2|   2|       2|           1|       2|             2|       2|            2|         2|  1.0103092783505154|0.01020408163265306|\n",
      "|        1|    0|   1|            1|        0|  0.9896907216494846|       2|              0.175|0.010309278350515464|       2|   2|   2|       2|           2|       2|             2|       2|            2|         2|                 0.0| 0.9795918367346939|\n",
      "|        1|    0|   1|            1|        0|  0.9896907216494846|       2|0.49166666666666664|0.010309278350515464|       2|   2|   2|       2|           2|       2|             2|       2|            2|         2|                 0.0| 0.9795918367346939|\n",
      "|        1|    0|   1|            1|        0|  0.9896907216494846|       2|0.23333333333333334|0.010309278350515464|       2|   2|   2|       2|           2|       1|             2|       2|            2|         1|0.010309278350515464| 0.9795918367346939|\n",
      "|        1|    0|   2|            1|        0|  0.9896907216494846|       2|               0.35|  0.9896907216494846|       2|   2|   2|       2|           2|       2|             2|       2|            2|         2|0.010309278350515464| 0.9795918367346939|\n",
      "|        1|    0|   2|            2|        0|0.010309278350515464|       1| 0.5416666666666666|  0.9896907216494846|       2|   2|   2|       2|           1|       2|             1|       2|            2|         2|0.010309278350515464|0.01020408163265306|\n",
      "|        1|    0|   2|            2|        1|                 0.0|       1|0.44166666666666665|  0.9896907216494846|       1|   2|   2|       1|           1|       1|             1|       1|            1|         2|0.010309278350515464|0.01020408163265306|\n",
      "|        1|    0|   1|            1|        0|  0.9896907216494846|       2|0.35833333333333334|0.010309278350515464|       2|   2|   2|       2|           2|       2|             2|       1|            2|         2|  1.0103092783505154| 0.9795918367346939|\n",
      "|        1|    0|   2|            2|        0|                 0.0|       1|               0.45|  0.9896907216494846|       1|   2|   2|       2|           2|       2|             2|       2|            2|         2|0.010309278350515464|0.01020408163265306|\n",
      "|        1|    0|   2|            1|        0|  0.9896907216494846|       2|0.38333333333333336|  0.9896907216494846|       2|   2|   2|       2|           2|       2|             2|       2|            2|         2|                 0.0| 0.9795918367346939|\n",
      "+---------+-----+----+-------------+---------+--------------------+--------+-------------------+--------------------+--------+----+----+--------+------------+--------+--------------+--------+-------------+----------+--------------------+-------------------+\n",
      "only showing top 20 rows\n",
      "\n"
     ]
    }
   ],
   "source": [
    "from pyspark import SparkContext, SparkConf\n",
    "from pyspark import SQLContext\n",
    "from pyspark.ml import Pipeline\n",
    "from pyspark.ml.feature import VectorAssembler\n",
    "from pyspark.ml.feature import ChiSqSelector\n",
    "from pyspark.ml.classification import MultilayerPerceptronClassifier\n",
    "from pyspark.ml.evaluation import MulticlassClassificationEvaluator\n",
    "from pyspark.ml.tuning import CrossValidator, ParamGridBuilder\n",
    "\n",
    "\n",
    "conf = SparkConf().setAppName(\"NN_1\").setMaster(\"local\")\n",
    "sc = SparkContext(conf=conf)\n",
    "\n",
    "sqlContext = SQLContext(sc)\n",
    "\n",
    "# Abrimos el csv\n",
    "rdd = sqlContext.read.csv(\"mexico_covid19.csv\", header=True).rdd\n",
    "rdd = rdd.map(lambda x: ( 0 if x[\"RESULTADO\"] == \"2\" else 1, \n",
    "                               int(x[\"DELAY\"]), \n",
    "                               int(x[\"SEXO\"]), \n",
    "                               int(x[\"TIPO_PACIENTE\"]), \n",
    "                               0 if x[\"FECHA_DEF\"] == \"9999-99-99\" else 1, \n",
    "                               (int(x[\"INTUBADO\"])-1)/(98-1), \n",
    "                               int(x[\"NEUMONIA\"]), \n",
    "                               int(x[\"EDAD\"])/120, \n",
    "                               (int(x[\"EMBARAZO\"])-1)/(98-1), \n",
    "                               int(x[\"DIABETES\"]), \n",
    "                               int(x[\"EPOC\"]), \n",
    "                               int(x[\"ASMA\"]),\n",
    "                               int(x[\"INMUSUPR\"]), \n",
    "                               int(x[\"HIPERTENSION\"]), \n",
    "                               int(x[\"OTRA_COM\"]), \n",
    "                               int(x[\"CARDIOVASCULAR\"]), \n",
    "                               int(x[\"OBESIDAD\"]), \n",
    "                               int(x[\"RENAL_CRONICA\"]), \n",
    "                               int(x[\"TABAQUISMO\"]), \n",
    "                               (int(x[\"OTRO_CASO\"])-1)/(98-1), \n",
    "                               (int(x[\"UCI\"])-1)/(99-1) ) )\n",
    "\n",
    "\n",
    "df = rdd.toDF([\"RESULTADO\",\"DELAY\",\"SEXO\",\"TIPO_PACIENTE\",\"DEFUNCION\",\"INTUBADO\",\"NEUMONIA\",\"EDAD\",\"EMBARAZO\",\n",
    "                           \"DIABETES\",\"EPOC\",\"ASMA\",\"INMUSUPR\",\"HIPERTENSION\",\"OTRA_COM\",\"CARDIOVASCULAR\",\"OBESIDAD\",\n",
    "                           \"RENAL_CRONICA\",\"TABAQUISMO\",\"OTRO_CASO\",\"UCI\"])\n",
    "\n",
    "df = df.filter(df['RESULTADO'] == 1)\n",
    "\n",
    "df.show()"
   ]
  },
  {
   "cell_type": "code",
   "execution_count": 2,
   "metadata": {},
   "outputs": [
    {
     "name": "stdout",
     "output_type": "stream",
     "text": [
      "Accuracy: 0.9700460077658498\n"
     ]
    }
   ],
   "source": [
    "# Test Chi2\n",
    "assembler = VectorAssembler(inputCols=[\"DELAY\",\"SEXO\",\"TIPO_PACIENTE\",\"INTUBADO\",\"NEUMONIA\",\"EDAD\",\"EMBARAZO\",\n",
    "                           \"DIABETES\",\"EPOC\",\"ASMA\",\"INMUSUPR\",\"HIPERTENSION\",\"OTRA_COM\",\"CARDIOVASCULAR\",\"OBESIDAD\",\n",
    "                           \"RENAL_CRONICA\",\"TABAQUISMO\",\"OTRO_CASO\",\"UCI\"], outputCol=\"featuresChi2\")\n",
    "\n",
    "df_chi2 = assembler.transform(df)\n",
    "df_chi2 = df_chi2.select(\"featuresChi2\", \"DEFUNCION\")\n",
    "\n",
    "selector = ChiSqSelector(\n",
    "    numTopFeatures=19,\n",
    "    featuresCol=\"featuresChi2\",\n",
    "    labelCol=\"DEFUNCION\",\n",
    "    outputCol=\"featuresSelected\")\n",
    "\n",
    "df_result = selector.fit(df_chi2).transform(df_chi2)\n",
    "\n",
    "# Dividir data en training y test\n",
    "(df_training, df_test) = df_result.randomSplit([0.7, 0.3])\n",
    "\n",
    "# Definir arquitectura de nuestra red (hiperparametro)\n",
    "capas = [19, 12, 9 , 2]\n",
    "\n",
    "# Construimos al entrenador\n",
    "# Hiperparametro: maxIter\n",
    "entrenador = MultilayerPerceptronClassifier(\n",
    "    featuresCol=\"featuresSelected\", labelCol=\"DEFUNCION\", maxIter=100, layers=capas\n",
    ")\n",
    "# Entrenar nuestro modelo\n",
    "modelo = entrenador.fit(df_training)\n",
    "\n",
    "# Validar nuestro modelo\n",
    "df_predictions = modelo.transform(df_test)\n",
    "evaluador = MulticlassClassificationEvaluator(\n",
    "    labelCol=\"DEFUNCION\", predictionCol=\"prediction\", metricName=\"accuracy\"\n",
    ")\n",
    "accuracy = evaluador.evaluate(df_predictions)\n",
    "print(f\"Accuracy: {accuracy}\")"
   ]
  }
 ],
 "metadata": {
  "kernelspec": {
   "display_name": "Python 3",
   "language": "python",
   "name": "python3"
  },
  "language_info": {
   "codemirror_mode": {
    "name": "ipython",
    "version": 3
   },
   "file_extension": ".py",
   "mimetype": "text/x-python",
   "name": "python",
   "nbconvert_exporter": "python",
   "pygments_lexer": "ipython3",
   "version": "3.8.4"
  }
 },
 "nbformat": 4,
 "nbformat_minor": 4
}
